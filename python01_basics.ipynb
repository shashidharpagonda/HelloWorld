{
  "nbformat": 4,
  "nbformat_minor": 0,
  "metadata": {
    "colab": {
      "provenance": [],
      "authorship_tag": "ABX9TyMgjHKesSkmyqJ2dbYHAqWP",
      "include_colab_link": true
    },
    "kernelspec": {
      "name": "python3",
      "display_name": "Python 3"
    },
    "language_info": {
      "name": "python"
    }
  },
  "cells": [
    {
      "cell_type": "markdown",
      "metadata": {
        "id": "view-in-github",
        "colab_type": "text"
      },
      "source": [
        "<a href=\"https://colab.research.google.com/github/shashidharpagonda/HelloWorld/blob/master/python01_basics.ipynb\" target=\"_parent\"><img src=\"https://colab.research.google.com/assets/colab-badge.svg\" alt=\"Open In Colab\"/></a>"
      ]
    },
    {
      "cell_type": "code",
      "execution_count": null,
      "metadata": {
        "id": "uuCWvZTjtgYo"
      },
      "outputs": [],
      "source": []
    },
    {
      "cell_type": "markdown",
      "source": [
        "Char to Ascii and Ascii to char.\n",
        "\n",
        "- chr(97) => 'a'\n",
        "- ord('a') => 97"
      ],
      "metadata": {
        "id": "JKxpEe0utjy2"
      }
    },
    {
      "cell_type": "code",
      "source": [
        "print ('chr(97) => ',chr(97))\n",
        "print ('ord(a) => ',ord('a'))"
      ],
      "metadata": {
        "colab": {
          "base_uri": "https://localhost:8080/"
        },
        "id": "eQa5RIihtpS5",
        "outputId": "c168a484-26f7-4f7a-a670-08438e0ac99c"
      },
      "execution_count": 1,
      "outputs": [
        {
          "output_type": "stream",
          "name": "stdout",
          "text": [
            "chr(97) =>  a\n",
            "ord(a) =>  97\n"
          ]
        }
      ]
    },
    {
      "cell_type": "code",
      "source": [
        "help(str.find)"
      ],
      "metadata": {
        "colab": {
          "base_uri": "https://localhost:8080/"
        },
        "id": "Vt33ZLcgt3bU",
        "outputId": "660efca6-b129-4dd0-9cd4-45f4ddbccd9f"
      },
      "execution_count": 2,
      "outputs": [
        {
          "output_type": "stream",
          "name": "stdout",
          "text": [
            "Help on method_descriptor:\n",
            "\n",
            "find(...)\n",
            "    S.find(sub[, start[, end]]) -> int\n",
            "    \n",
            "    Return the lowest index in S where substring sub is found,\n",
            "    such that sub is contained within S[start:end].  Optional\n",
            "    arguments start and end are interpreted as in slice notation.\n",
            "    \n",
            "    Return -1 on failure.\n",
            "\n"
          ]
        }
      ]
    },
    {
      "cell_type": "code",
      "source": [],
      "metadata": {
        "id": "z5BDoyOjt4N9"
      },
      "execution_count": null,
      "outputs": []
    }
  ]
}